{
 "cells": [
  {
   "cell_type": "code",
   "execution_count": 1,
   "id": "b0cfa696",
   "metadata": {},
   "outputs": [],
   "source": [
    "import numpy as np"
   ]
  },
  {
   "cell_type": "code",
   "execution_count": null,
   "id": "742e1a95",
   "metadata": {},
   "outputs": [
    {
     "data": {
      "text/plain": [
       "array([2, 5, 7])"
      ]
     },
     "execution_count": 8,
     "metadata": {},
     "output_type": "execute_result"
    }
   ],
   "source": [
    "a1 = np.array([1,2,3]) # 1x3 matrix\n",
    "a2 = np.array([[2,3,4],[4,5,6],[5,6,7]]) # 3x3 matrix\n",
    "a2.diagonal()"
   ]
  },
  {
   "cell_type": "markdown",
   "id": "58822ebc",
   "metadata": {},
   "source": [
    "### Special Arrays"
   ]
  },
  {
   "cell_type": "code",
   "execution_count": 10,
   "id": "411b115a",
   "metadata": {},
   "outputs": [],
   "source": [
    "zeros = np.zeros([3,3]) # 3x3 zero matrix\n",
    "ones = np.ones([1,3]) # 1x3 one matrix\n",
    "identity = np.eye(3) # 3x3 identity matrix\n"
   ]
  },
  {
   "cell_type": "code",
   "execution_count": 11,
   "id": "8c51708f",
   "metadata": {},
   "outputs": [
    {
     "data": {
      "text/plain": [
       "array([[0., 0., 0.],\n",
       "       [0., 0., 0.],\n",
       "       [0., 0., 0.]])"
      ]
     },
     "execution_count": 11,
     "metadata": {},
     "output_type": "execute_result"
    }
   ],
   "source": [
    "zeros"
   ]
  },
  {
   "cell_type": "code",
   "execution_count": 12,
   "id": "0df790f4",
   "metadata": {},
   "outputs": [
    {
     "data": {
      "text/plain": [
       "array([[1., 1., 1.]])"
      ]
     },
     "execution_count": 12,
     "metadata": {},
     "output_type": "execute_result"
    }
   ],
   "source": [
    "ones"
   ]
  },
  {
   "cell_type": "code",
   "execution_count": 13,
   "id": "508bc5ec",
   "metadata": {},
   "outputs": [
    {
     "data": {
      "text/plain": [
       "array([[1., 0., 0.],\n",
       "       [0., 1., 0.],\n",
       "       [0., 0., 1.]])"
      ]
     },
     "execution_count": 13,
     "metadata": {},
     "output_type": "execute_result"
    }
   ],
   "source": [
    "identity"
   ]
  },
  {
   "cell_type": "markdown",
   "id": "ac8edbd6",
   "metadata": {},
   "source": [
    "### Array Operations"
   ]
  },
  {
   "cell_type": "code",
   "execution_count": 15,
   "id": "bbd6d54e",
   "metadata": {},
   "outputs": [
    {
     "name": "stdout",
     "output_type": "stream",
     "text": [
      "[[11 12 13]\n",
      " [14 15 16]\n",
      " [17 18 19]]\n",
      "[[ 2  4  6]\n",
      " [ 8 10 12]\n",
      " [14 16 18]]\n",
      "[[ 1  4  9]\n",
      " [16 25 36]\n",
      " [49 64 81]]\n"
     ]
    }
   ],
   "source": [
    "arr = np.array([[1,2,3],[4,5,6],[7,8,9]])\n",
    "\n",
    "print(arr+10) # add 10 to each element\n",
    "print(arr*2) # multiply each element by 2\n",
    "print(arr**2) # square each element"
   ]
  },
  {
   "cell_type": "code",
   "execution_count": null,
   "id": "02d9af12",
   "metadata": {},
   "outputs": [
    {
     "name": "stdout",
     "output_type": "stream",
     "text": [
      "[[ 3  5  7]\n",
      " [ 5  7  9]\n",
      " [ 6  8 10]]\n",
      "[25 31 37]\n"
     ]
    }
   ],
   "source": [
    "print(a1+a2) # adding 2 matrices\n",
    "print(np.dot(a1, a2)) # Dot product"
   ]
  },
  {
   "cell_type": "code",
   "execution_count": null,
   "id": "aab5a029",
   "metadata": {},
   "outputs": [
    {
     "name": "stdout",
     "output_type": "stream",
     "text": [
      "2.0\n",
      "0.816496580927726\n",
      "7\n",
      "2\n"
     ]
    }
   ],
   "source": [
    "print(np.mean(a1)) # mean of all elements\n",
    "print(np.std(a1)) # standard deviation of all elements\n",
    "print(np.max(a2)) # max value of the matrix\n",
    "print(np.argmax(a1)) # maximum number of arguemnts in a matrix"
   ]
  },
  {
   "cell_type": "markdown",
   "id": "2561b012",
   "metadata": {},
   "source": [
    "### Array Indexing and Slicing"
   ]
  },
  {
   "cell_type": "code",
   "execution_count": 33,
   "id": "6abde9a5",
   "metadata": {},
   "outputs": [
    {
     "name": "stdout",
     "output_type": "stream",
     "text": [
      "2\n",
      "[ 2 44  1]\n",
      "[33 44 55]\n"
     ]
    }
   ],
   "source": [
    "arr = np.array([[1,2,3], [33,44,55], [2,1,1]])\n",
    "\n",
    "print(arr[0,1]) # get the element that is in the first row and second column\n",
    "print(arr[:,1]) # all rows, second column\n",
    "print(arr[arr > 5]) # row containing elements greater than 5"
   ]
  }
 ],
 "metadata": {
  "kernelspec": {
   "display_name": "env",
   "language": "python",
   "name": "python3"
  },
  "language_info": {
   "codemirror_mode": {
    "name": "ipython",
    "version": 3
   },
   "file_extension": ".py",
   "mimetype": "text/x-python",
   "name": "python",
   "nbconvert_exporter": "python",
   "pygments_lexer": "ipython3",
   "version": "3.9.6"
  }
 },
 "nbformat": 4,
 "nbformat_minor": 5
}
