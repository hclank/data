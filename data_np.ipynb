{
 "cells": [
  {
   "cell_type": "code",
   "execution_count": 1,
   "id": "b0cfa696",
   "metadata": {},
   "outputs": [],
   "source": [
    "import numpy as np"
   ]
  },
  {
   "cell_type": "code",
   "execution_count": null,
   "id": "742e1a95",
   "metadata": {},
   "outputs": [
    {
     "data": {
      "text/plain": [
       "array([2, 5, 7])"
      ]
     },
     "execution_count": 8,
     "metadata": {},
     "output_type": "execute_result"
    }
   ],
   "source": [
    "a1 = np.array([1,2,3]) # 1x3 matrix\n",
    "a2 = np.array([[2,3,4],[4,5,6],[5,6,7]]) # 3x3 matrix\n",
    "a2.diagonal()"
   ]
  },
  {
   "cell_type": "markdown",
   "id": "58822ebc",
   "metadata": {},
   "source": [
    "special arrays"
   ]
  },
  {
   "cell_type": "code",
   "execution_count": null,
   "id": "411b115a",
   "metadata": {},
   "outputs": [],
   "source": [
    "zeros = np.zeros([3,3]) # 3x3 zero matrix\n",
    "ones = np.ones([1,3]) # 1x3 one matrix\n",
    "identity = np.eye(3) # 3x3 identity matrix"
   ]
  }
 ],
 "metadata": {
  "kernelspec": {
   "display_name": "env",
   "language": "python",
   "name": "python3"
  },
  "language_info": {
   "codemirror_mode": {
    "name": "ipython",
    "version": 3
   },
   "file_extension": ".py",
   "mimetype": "text/x-python",
   "name": "python",
   "nbconvert_exporter": "python",
   "pygments_lexer": "ipython3",
   "version": "3.9.6"
  }
 },
 "nbformat": 4,
 "nbformat_minor": 5
}
